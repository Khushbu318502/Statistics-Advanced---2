{
  "nbformat": 4,
  "nbformat_minor": 0,
  "metadata": {
    "colab": {
      "provenance": []
    },
    "kernelspec": {
      "name": "python3",
      "display_name": "Python 3"
    },
    "language_info": {
      "name": "python"
    }
  },
  "cells": [
    {
      "cell_type": "markdown",
      "source": [
        "# Statistics Advanced - 2"
      ],
      "metadata": {
        "id": "_2jFjDe-mz4H"
      }
    },
    {
      "cell_type": "markdown",
      "source": [
        "1. What is hypothesis testing in statistics?\n",
        "  - Hypothesis testing in statistics is a formal method of making decisions or inferences about a population based on sample data.\n",
        "\n",
        "  - It helps us determine whether there is enough statistical evidence to support a certain claim (hypothesis) about a population parameter (like mean, proportion, variance, etc.).\n",
        "\n",
        "  - Example:\n",
        "\n",
        "     A company claims the average life of its batteries is 100 hours.\n",
        "\n",
        "     H₀: μ = 100\n",
        "\n",
        "     H₁: μ ≠ 100"
      ],
      "metadata": {
        "id": "8P5W5hDjm3Ix"
      }
    },
    {
      "cell_type": "markdown",
      "source": [
        "2. What is the null hypothesis, and how does it differ from the alternative\n",
        "hypothesis?\n",
        "  - Null Hypothesis (H₀):\n",
        "\n",
        "      - The default assumption or status quo.\n",
        "\n",
        "      - It assumes there is no effect, no difference, or no relationship in the population.\n",
        "\n",
        "      - It is the statement we try to test against.\n",
        "\n",
        "      - Example:\n",
        "\n",
        "           - A medicine has no effect on blood pressure.\n",
        "\n",
        "           - The average height of students is 170 cm (μ = 170).\n",
        "\n",
        "  - Alternative Hypothesis (H₁ or Ha):\n",
        "\n",
        "      - The opposite of the null hypothesis.\n",
        "\n",
        "      - It represents what we suspect, claim, or want to prove.\n",
        "\n",
        "      - It states that there is an effect, a difference, or a relationship.\n",
        "\n",
        "      - Example:\n",
        "\n",
        "           - The medicine does affect blood pressure.\n",
        "\n",
        "           - The average height of students is not 170 cm (μ ≠ 170)."
      ],
      "metadata": {
        "id": "hpWHrMuXpSD-"
      }
    },
    {
      "cell_type": "markdown",
      "source": [
        "3. Explain the significance level in hypothesis testing and its role in deciding\n",
        "the outcome of a test ?\n",
        "  - The significance level is the “decision rule” in hypothesis testing. It sets how much evidence we need to reject the null hypothesis and controls the risk of a Type I error.\n",
        "\n",
        "  - Example:\n",
        "\n",
        "     A company claims its bulb lasts 1000 hours. We test this claim with α = 0.05.\n",
        "\n",
        "     - If the test gives p = 0.03 → since 0.03 < 0.05, we reject H₀ (evidence bulbs don’t last 1000 hours).\n",
        "\n",
        "     - If the test gives p = 0.08 → since 0.08 > 0.05, we fail to reject H₀ (not enough evidence against the claim)."
      ],
      "metadata": {
        "id": "lCSKI684qACx"
      }
    },
    {
      "cell_type": "markdown",
      "source": [
        "4. What are Type I and Type II errors? Give examples of each ?\n",
        "  - Type I error = false alarm (seeing an effect that isn’t there).\n",
        "\n",
        "  - Example:\n",
        "\n",
        "     - A COVID test says a healthy person has COVID.\n",
        "\n",
        "     - In a criminal trial: concluding the accused is guilty when they are actually innocent.\n",
        "\n",
        "     - A company claims its bulb lasts 1000 hours (H₀: μ = 1000). If in reality it does last 1000 hours, but our test rejects H₀, we made a Type I error.\n",
        "\n",
        "  - Type II error = missed detection (failing to see an effect that is there)\n",
        "     \n",
        "  - Example:\n",
        "\n",
        "     - A COVID test says an infected person does not have COVID.\n",
        "\n",
        "     - In a criminal trial: concluding the accused is innocent when they are actually guilty.\n",
        "\n",
        "     - If the bulb actually lasts only 900 hours, but our test fails to reject H₀ (μ = 1000), we made a Type II error."
      ],
      "metadata": {
        "id": "mwikmfoPqxy0"
      }
    },
    {
      "cell_type": "markdown",
      "source": [
        "5. What is the difference between a Z-test and a T-test? Explain when to use\n",
        "each ?\n",
        "  - Z-test: Used when the population variance (σ²) is known and the sample size is large (n > 30). It relies on the normal distribution. Example: Testing if the average height of students = 160 cm, when population variance is known.\n",
        "\n",
        "  - T-test: Used when the population variance is unknown and the sample size is small (n ≤ 30). It relies on the Student’s t-distribution, which has heavier tails than the normal.Example: Testing if the average exam score of 15 students = 75, when variance is unknown.\n",
        "     \n",
        "      - Use Z-test: Large samples, known population variance.\n",
        "\n",
        "      - Use T-test: Small samples, unknown population variance.\n",
        "  "
      ],
      "metadata": {
        "id": "IV0kefNgrjIC"
      }
    },
    {
      "cell_type": "markdown",
      "source": [
        "6. Write a Python program to generate a binomial distribution with n=10 and\n",
        "p=0.5, then plot its histogram.\n",
        "(Include your Python code and output in the code box below.)\n",
        "Hint: Generate random number using random function.\n"
      ],
      "metadata": {
        "id": "0nYnoX2L5YT6"
      }
    },
    {
      "cell_type": "code",
      "source": [
        "import numpy as np\n",
        "import matplotlib.pyplot as plt\n",
        "\n",
        "# Parameters\n",
        "n = 10   # number of trials\n",
        "p = 0.5  # probability of success\n",
        "size = 1000  # number of samples\n",
        "\n",
        "# Generate binomial distribution random numbers\n",
        "binomial_data = np.random.binomial(n, p, size)\n",
        "\n",
        "# Plot histogram\n",
        "plt.hist(binomial_data, bins=range(n+2), edgecolor='black', alpha=0.7)\n",
        "plt.title(\"Binomial Distribution (n=10, p=0.5)\")\n",
        "plt.xlabel(\"Number of Successes\")\n",
        "plt.ylabel(\"Frequency\")\n",
        "plt.grid(axis='y', linestyle='--', alpha=0.7)\n",
        "plt.show()\n",
        "\n",
        "# Display first 20 generated values\n",
        "print(binomial_data[:20])\n"
      ],
      "metadata": {
        "id": "GFmne5_XBMKz"
      },
      "execution_count": null,
      "outputs": []
    },
    {
      "cell_type": "code",
      "source": [
        "The histogram above shows how the distribution is centered around 5 successes (as expected for\n",
        "𝑛 = 10, 𝑝 = 0.5).\n"
      ],
      "metadata": {
        "id": "Fq7gJa3SBQz4"
      },
      "execution_count": null,
      "outputs": []
    },
    {
      "cell_type": "markdown",
      "source": [
        "7. Implement hypothesis testing using Z-statistics for a sample dataset in\n",
        "Python. Show the Python code and interpret the results.\n",
        "sample_data = [49.1, 50.2, 51.0, 48.7, 50.5, 49.8, 50.3, 50.7, 50.2, 49.6,\n",
        "50.1, 49.9, 50.8, 50.4, 48.9, 50.6, 50.0, 49.7, 50.2, 49.5,\n",
        "50.1, 50.3, 50.4, 50.5, 50.0, 50.7, 49.3, 49.8, 50.2, 50.9,\n",
        "50.3, 50.4, 50.0, 49.7, 50.5, 49.9]\n",
        "(Include your Python code and output in the code box below.)\n",
        "  "
      ],
      "metadata": {
        "id": "e7wL8ddM4-cm"
      }
    },
    {
      "cell_type": "code",
      "source": [
        "import numpy as np\n",
        "from scipy.stats import norm\n",
        "\n",
        "# Sample data\n",
        "sample_data = [49.1, 50.2, 51.0, 48.7, 50.5, 49.8, 50.3, 50.7, 50.2, 49.6,\n",
        "               50.1, 49.9, 50.8, 50.4, 48.9, 50.6, 50.0, 49.7, 50.2, 49.5,\n",
        "               50.1, 50.3, 50.4, 50.5, 50.0, 50.7, 49.3, 49.8, 50.2, 50.9,\n",
        "               50.3, 50.4, 50.0, 49.7, 50.5, 49.9]\n",
        "\n",
        "# Convert to numpy array\n",
        "data = np.array(sample_data)\n",
        "\n",
        "# Hypothesis: H0: mu = 50, H1: mu != 50\n",
        "mu0 = 50  # population mean under null hypothesis\n",
        "n = len(data)\n",
        "sample_mean = np.mean(data)\n",
        "sample_std = np.std(data, ddof=1)  # sample standard deviation\n",
        "\n",
        "# Standard error\n",
        "se = sample_std / np.sqrt(n)\n",
        "\n",
        "# Z-statistic\n",
        "z_stat = (sample_mean - mu0) / se\n",
        "\n",
        "# Two-tailed p-value\n",
        "p_value = 2 * (1 - norm.cdf(abs(z_stat)))\n",
        "\n",
        "print(\"Sample Mean:\", sample_mean)\n",
        "print(\"Sample Std Dev:\", sample_std)\n",
        "print(\"Z-statistic:\", z_stat)\n",
        "print(\"p-value:\", p_value)\n",
        "\n",
        "output:\n",
        "\n",
        "Sample Mean: 50.0889\n",
        "Sample Std Dev: 0.5365\n",
        "Z-statistic: 0.9940\n",
        "p-value: 0.3202"
      ],
      "metadata": {
        "id": "0tUE9KiYCFZG"
      },
      "execution_count": null,
      "outputs": []
    },
    {
      "cell_type": "markdown",
      "source": [
        "8. Write a Python script to simulate data from a normal distribution and\n",
        "calculate the 95% confidence interval for its mean. Plot the data using Matplotlib.\n",
        "(Include your Python code and output in the code box below.)\n"
      ],
      "metadata": {
        "id": "YtfOXIH-KO5P"
      }
    },
    {
      "cell_type": "code",
      "source": [
        "import numpy as np\n",
        "import matplotlib.pyplot as plt\n",
        "from scipy import stats\n",
        "\n",
        "# Simulate data from a normal distribution\n",
        "np.random.seed(42)  # for reproducibility\n",
        "mu, sigma = 50, 5   # population mean and standard deviation\n",
        "n = 100             # sample size\n",
        "data = np.random.normal(mu, sigma, n)\n",
        "\n",
        "# Sample statistics\n",
        "sample_mean = np.mean(data)\n",
        "sample_std = np.std(data, ddof=1)\n",
        "\n",
        "# 95% confidence interval using t-distribution\n",
        "alpha = 0.05\n",
        "t_crit = stats.t.ppf(1 - alpha/2, df=n-1)  # critical value\n",
        "margin_of_error = t_crit * (sample_std / np.sqrt(n))\n",
        "ci_lower = sample_mean - margin_of_error\n",
        "ci_upper = sample_mean + margin_of_error\n",
        "\n",
        "# Plot histogram of data\n",
        "plt.hist(data, bins=15, edgecolor='black', alpha=0.7)\n",
        "plt.axvline(sample_mean, color='red', linestyle='dashed', linewidth=2, label=f\"Mean = {sample_mean:.2f}\")\n",
        "plt.axvline(ci_lower, color='green', linestyle='dashed', linewidth=2, label=f\"95% CI Lower = {ci_lower:.2f}\")\n",
        "plt.axvline(ci_upper, color='green', linestyle='dashed', linewidth=2, label=f\"95% CI Upper = {ci_upper:.2f}\")\n",
        "plt.title(\"Normal Distribution Sample with 95% Confidence Interval\")\n",
        "plt.xlabel(\"Value\")\n",
        "plt.ylabel(\"Frequency\")\n",
        "plt.legend()\n",
        "plt.show()\n",
        "\n",
        "print(\"Sample Mean:\", sample_mean)\n",
        "print(\"95% Confidence Interval:\", (ci_lower, ci_upper))\n",
        "\n",
        "output:\n",
        "\n",
        "Sample Mean: 49.48\n",
        "95% Confidence Interval: (48.58, 50.38)"
      ],
      "metadata": {
        "id": "SGhPxU8YL0y5"
      },
      "execution_count": null,
      "outputs": []
    },
    {
      "cell_type": "markdown",
      "source": [
        "9. Write a Python function to calculate the Z-scores from a dataset and\n",
        "visualize the standardized data using a histogram. Explain what the Z-scores represent\n",
        "in terms of standard deviations from the mean.\n",
        "(Include your Python code and output in the code box below.)"
      ],
      "metadata": {
        "id": "PTQAC2R0L-sl"
      }
    },
    {
      "cell_type": "code",
      "source": [
        "import numpy as np\n",
        "import matplotlib.pyplot as plt\n",
        "\n",
        "# Function to calculate Z-scores and plot histogram\n",
        "def calculate_z_scores(data):\n",
        "    mean = np.mean(data)\n",
        "    std = np.std(data, ddof=1)\n",
        "    z_scores = (data - mean) / std\n",
        "\n",
        "    # Plot histogram of Z-scores\n",
        "    plt.hist(z_scores, bins=15, edgecolor='black', alpha=0.7)\n",
        "    plt.title(\"Histogram of Z-scores (Standardized Data)\")\n",
        "    plt.xlabel(\"Z-score\")\n",
        "    plt.ylabel(\"Frequency\")\n",
        "    plt.axvline(0, color='red', linestyle='dashed', linewidth=2, label=\"Mean (0)\")\n",
        "    plt.legend()\n",
        "    plt.show()\n",
        "\n",
        "    return z_scores\n",
        "\n",
        "# Example dataset\n",
        "data = np.array([10, 12, 13, 15, 18, 20, 21, 22, 23, 25])\n",
        "\n",
        "# Calculate Z-scores\n",
        "z_scores = calculate_z_scores(data)\n",
        "print(\"Z-scores:\", np.round(z_scores, 2))\n",
        "\n",
        "output:\n",
        "\n",
        "Z-scores: [-1.54 -1.15 -0.96 -0.57  0.02  0.41  0.60  0.80  0.99  1.38]"
      ],
      "metadata": {
        "id": "SJE21o_GMfc1"
      },
      "execution_count": null,
      "outputs": []
    },
    {
      "cell_type": "code",
      "execution_count": null,
      "metadata": {
        "id": "0383T3GxmzJM"
      },
      "outputs": [],
      "source": []
    }
  ]
}